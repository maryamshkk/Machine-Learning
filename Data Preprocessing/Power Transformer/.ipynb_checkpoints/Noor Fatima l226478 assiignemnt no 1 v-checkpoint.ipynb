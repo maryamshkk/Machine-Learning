{
 "cells": [
  {
   "cell_type": "markdown",
   "id": "7c6f7589-3cf1-4d4a-8f06-53013a1e22c9",
   "metadata": {},
   "source": [
    "# 1) STUDENT IDENTIFIER AND CONFIGURATION"
   ]
  },
  {
   "cell_type": "code",
   "execution_count": 17,
   "id": "e0253787-876f-477a-aa1d-78a5ea5e0218",
   "metadata": {},
   "outputs": [
    {
     "name": "stdout",
     "output_type": "stream",
     "text": [
      "Derived per-student configuration:\n",
      "{\n",
      "  \"roll_clean\": \"L226451\",\n",
      "  \"seed\": 1586,\n",
      "  \"scratch\": {\n",
      "    \"H\": 48,\n",
      "    \"activation\": \"sigmoid\",\n",
      "    \"lr\": 0.05,\n",
      "    \"batch\": 32,\n",
      "    \"epochs\": 50\n",
      "  },\n",
      "  \"keras\": {\n",
      "    \"layers\": 3,\n",
      "    \"units\": [\n",
      "      128,\n",
      "      64,\n",
      "      16\n",
      "    ],\n",
      "    \"activation\": \"sigmoid\",\n",
      "    \"optimizer\": \"sgd\",\n",
      "    \"lr\": 0.05,\n",
      "    \"batch\": 64,\n",
      "    \"epochs\": 30\n",
      "  },\n",
      "  \"hash\": \"82648a89882f\"\n",
      "}\n"
     ]
    }
   ],
   "source": [
    "\n",
    "import numpy as np\n",
    "import matplotlib.pyplot as plt\n",
    "from sklearn.datasets import make_classification\n",
    "from sklearn.model_selection import train_test_split\n",
    "from sklearn.preprocessing import StandardScaler\n",
    "from sklearn.metrics import accuracy_score, precision_score, recall_score, roc_auc_score, confusion_matrix\n",
    "from sklearn.metrics import roc_curve, auc, average_precision_score\n",
    "import pandas as pd\n",
    "import re\n",
    "import tensorflow as tf\n",
    "from tensorflow.keras import Sequential\n",
    "from tensorflow.keras.layers import Dense, Dropout, BatchNormalization\n",
    "from tensorflow.keras.optimizers import Adam, SGD, RMSprop\n",
    "\n",
    "import json\n",
    "import hashlib\n",
    "import datetime\n",
    "import sys\n",
    "\n",
    "\n",
    "# TODO: Setting the   roll number  as assigned\n",
    "ROLL_NUMBER = \"l226451\"  \n",
    "def _roll_to_ints(roll: str):\n",
    "    s = str(roll).strip()\n",
    "    if not s:\n",
    "        raise ValueError(\"ROLL_NUMBER is empty\")\n",
    "    s2 = re.sub(r'[^A-Za-z0-9]', '', s).upper()\n",
    "    vals = [ord(c) for c in s2]\n",
    "    return s2, vals\n",
    "\n",
    "def derive_config(roll: str):\n",
    "    s2, vals = _roll_to_ints(roll)\n",
    "    base = sum((i+1)*v for i, v in enumerate(vals))\n",
    "    seed = (base % 100000) + 123\n",
    "    vi = base % 4\n",
    "    vj = (base // 7) % 3\n",
    "    vk = (base // 11) % 3\n",
    "\n",
    "    # Scratch MLP spec\n",
    "    hidden_choices = [16, 24, 32, 48]\n",
    "    act_choices = ['tanh', 'relu', 'sigmoid']\n",
    "    lr_choices = [0.01, 0.05, 0.1]\n",
    "    batch_choices = [32, 48, 64]\n",
    "    epochs_choices = [30, 40, 50]\n",
    "\n",
    "    scratch_spec = {\n",
    "        \"H\": hidden_choices[vi],\n",
    "        \"activation\": act_choices[vj],\n",
    "        \"lr\": lr_choices[vk],\n",
    "        \"batch\": batch_choices[vi % len(batch_choices)],\n",
    "        \"epochs\": epochs_choices[vj % len(epochs_choices)]\n",
    "    }\n",
    "\n",
    "    # Keras MLP spec\n",
    "    layers_choices = [1, 2, 3]\n",
    "    units_choices = [[64], [64, 16], [128, 64, 16]]\n",
    "    opt_choices = ['adam', 'sgd', 'rmsprop']\n",
    "    k_layers = layers_choices[vj]\n",
    "    keras_spec = {\n",
    "        \"layers\": k_layers,\n",
    "        \"units\": units_choices[k_layers-1],\n",
    "        \"activation\": act_choices[vj],\n",
    "        \"optimizer\": opt_choices[vk],\n",
    "        \"lr\": lr_choices[vk],\n",
    "        \"batch\": batch_choices[(vi+vj) % len(batch_choices)],\n",
    "        \"epochs\": epochs_choices[(vj+vk) % len(epochs_choices)]\n",
    "    }\n",
    "\n",
    "    return {\n",
    "        \"roll_clean\": s2,\n",
    "        \"seed\": seed,\n",
    "        \"scratch\": scratch_spec,\n",
    "        \"keras\": keras_spec,\n",
    "        \"hash\": hashlib.sha1(s2.encode()).hexdigest()[:12]\n",
    "    }\n",
    "\n",
    "CFG = derive_config(ROLL_NUMBER)\n",
    "print(\"Derived per-student configuration:\")\n",
    "print(json.dumps(CFG, indent=2))\n",
    "\n",
    "np.random.seed(CFG['seed'])"
   ]
  },
  {
   "cell_type": "markdown",
   "id": "d4279bfa-9dac-4e95-a6d7-53b0fad1428b",
   "metadata": {},
   "source": [
    "# 2) SYNTHETIC DATA GENERATION"
   ]
  },
  {
   "cell_type": "code",
   "execution_count": 18,
   "id": "442e4716-fb65-4467-b1f1-6edb4c544224",
   "metadata": {},
   "outputs": [
    {
     "name": "stdout",
     "output_type": "stream",
     "text": [
      "Training set: (3000, 8), Test set: (1000, 8)\n",
      "Class distribution - Train: [1494 1506], Test: [498 502]\n"
     ]
    }
   ],
   "source": [
    "SEED = CFG['seed']\n",
    "np.random.seed(SEED)\n",
    "\n",
    "X, y = make_classification(\n",
    "    n_samples=4000, n_features=8, n_informative=5, n_redundant=1, n_repeated=0,\n",
    "    n_clusters_per_class=2, class_sep=1.2, flip_y=0.05, random_state=SEED\n",
    ")\n",
    "\n",
    "X_train, X_test, y_train, y_test = train_test_split(X, y, test_size=0.25, random_state=SEED, stratify=y)\n",
    "\n",
    "scaler = StandardScaler()\n",
    "X_train = scaler.fit_transform(X_train)\n",
    "X_test = scaler.transform(X_test)\n",
    "\n",
    "print(f\"Training set: {X_train.shape}, Test set: {X_test.shape}\")\n",
    "print(f\"Class distribution - Train: {np.bincount(y_train)}, Test: {np.bincount(y_test)}\")"
   ]
  },
  {
   "cell_type": "markdown",
   "id": "4e3f848a-a313-4cfd-a35a-ff4d2de35da4",
   "metadata": {},
   "source": [
    "# 3) ACTIVATION FUNCTIONS & DERIVATIVES"
   ]
  },
  {
   "cell_type": "code",
   "execution_count": 19,
   "id": "38923c06-1e69-42aa-add4-c993ecb961fc",
   "metadata": {},
   "outputs": [
    {
     "name": "stdout",
     "output_type": "stream",
     "text": [
      "Testing activation functions:\n",
      "sigmoid([-1  0  1]) = [0.26894142 0.5        0.73105858]\n",
      "tanh([-1  0  1]) = [-0.76159416  0.          0.76159416]\n",
      "relu([-1  0  1]) = [0 0 1]\n"
     ]
    }
   ],
   "source": [
    "\n",
    "def sigmoid(z):\n",
    "    \"\"\"Return σ(z) = 1 / (1 + exp(-z)) with numerical stability.\"\"\"\n",
    "    # Clip z to prevent overflow in exp\n",
    "    z_clipped = np.clip(z, -500, 500)\n",
    "    return 1 / (1 + np.exp(-z_clipped))\n",
    "\n",
    "def dsigmoid(z):\n",
    "    \"\"\"Return derivative of sigmoid wrt z.\"\"\"\n",
    "    # σ(z)*(1-σ(z))\n",
    "    s = sigmoid(z)\n",
    "    return s * (1 - s)\n",
    "\n",
    "def tanh_act(z):\n",
    "    \"\"\"Return tanh(z).\"\"\"\n",
    "    return np.tanh(z)\n",
    "\n",
    "def dtanh_act(z):\n",
    "    \"\"\"Return derivative of tanh wrt z.\"\"\"\n",
    "    # 1 - tanh(z)^2\n",
    "    return 1 - np.tanh(z)**2\n",
    "\n",
    "def relu(z):\n",
    "    \"\"\"Return ReLU(z) = max(0,z).\"\"\"\n",
    "    return np.maximum(0, z)\n",
    "\n",
    "def drelu(z):\n",
    "    \"\"\"Return derivative of ReLU wrt z (Heaviside at 0 -> use 0 there).\"\"\"\n",
    "    return (z > 0).astype(float)\n",
    "\n",
    "def pick_activation(name):\n",
    "    name = name.lower()\n",
    "    if name == 'sigmoid':\n",
    "        return sigmoid, dsigmoid\n",
    "    if name == 'tanh':\n",
    "        return tanh_act, dtanh_act\n",
    "    if name == 'relu':\n",
    "        return relu, drelu\n",
    "    raise ValueError(\"Unknown activation: \" + name)\n",
    "\n",
    "# Test the activation functions\n",
    "print(\"Testing activation functions:\")\n",
    "z_test = np.array([-1, 0, 1])\n",
    "print(f\"sigmoid({z_test}) = {sigmoid(z_test)}\")\n",
    "print(f\"tanh({z_test}) = {tanh_act(z_test)}\")\n",
    "print(f\"relu({z_test}) = {relu(z_test)}\")"
   ]
  },
  {
   "cell_type": "markdown",
   "id": "baab856d-5a07-4e67-97c3-c51e9352afce",
   "metadata": {},
   "source": [
    "# 4) PARAMETER INITIALIZATION"
   ]
  },
  {
   "cell_type": "code",
   "execution_count": 20,
   "id": "83abb550-b35c-4b13-bb90-75942e4079ad",
   "metadata": {},
   "outputs": [
    {
     "name": "stdout",
     "output_type": "stream",
     "text": [
      "Parameter shapes:\n",
      "W1: (8, 48), b1: (1, 48)\n",
      "W2: (48, 1), b2: (1, 1)\n",
      "Initial W1 range: [-0.3235, 0.3272]\n"
     ]
    }
   ],
   "source": [
    "rng = np.random.default_rng(CFG['seed'])\n",
    "n_features = X_train.shape[1]\n",
    "H = CFG['scratch']['H']  # Using derived hidden size\n",
    "\n",
    "# Xavier/Glorot initialization\n",
    "limit1 = np.sqrt(6 / (n_features + H))\n",
    "limit2 = np.sqrt(6 / (H + 1))\n",
    "\n",
    "# Shapes:\n",
    "# W1: (n_features, H), b1: (1, H)\n",
    "# W2: (H, 1),         b2: (1, 1)\n",
    "W1 = rng.uniform(-limit1, limit1, (n_features, H))\n",
    "b1 = np.zeros((1, H))\n",
    "W2 = rng.uniform(-limit2, limit2, (H, 1))\n",
    "b2 = np.zeros((1, 1))\n",
    "\n",
    "def get_params():\n",
    "    return {'W1': W1, 'b1': b1, 'W2': W2, 'b2': b2}\n",
    "\n",
    "print(\"Parameter shapes:\")\n",
    "print(f\"W1: {W1.shape}, b1: {b1.shape}\")\n",
    "print(f\"W2: {W2.shape}, b2: {b2.shape}\")\n",
    "print(f\"Initial W1 range: [{W1.min():.4f}, {W1.max():.4f}]\")"
   ]
  },
  {
   "cell_type": "markdown",
   "id": "75b318b3-e108-4ac0-821e-501e88732543",
   "metadata": {},
   "source": [
    "# 5) FORWARD PROPAGATION"
   ]
  },
  {
   "cell_type": "code",
   "execution_count": 21,
   "id": "7f4399ef-922d-462b-9814-9be63c470212",
   "metadata": {},
   "outputs": [
    {
     "name": "stdout",
     "output_type": "stream",
     "text": [
      "Forward propagation test - Input: (5, 8), Output: (5, 1)\n",
      "Output range: [0.2666, 0.3360]\n"
     ]
    }
   ],
   "source": [
    "\n",
    "def forward_propagation(X, params, activation_name='tanh'):\n",
    "    W1, b1 = params['W1'], params['b1']\n",
    "    W2, b2 = params['W2'], params['b2']\n",
    "    act, dact = pick_activation(activation_name)\n",
    "\n",
    "    # Compute Z1, A1, Z2, A2 (A2 = y_hat)\n",
    "    # Layer 1: Z1 = XW1 + b1, A1 = g(Z1)\n",
    "    Z1 = X @ W1 + b1\n",
    "    A1 = act(Z1)\n",
    "    \n",
    "    # Layer 2: Z2 = A1W2 + b2, A2 = σ(Z2)\n",
    "    Z2 = A1 @ W2 + b2\n",
    "    A2 = sigmoid(Z2)  # use sigmoid for output\n",
    "\n",
    "    cache = {'X': X, 'Z1': Z1, 'A1': A1, 'Z2': Z2, 'A2': A2, 'activation': activation_name}\n",
    "    return A2, cache\n",
    "\n",
    "# Test forward propagation\n",
    "params = get_params()\n",
    "y_hat_test, cache_test = forward_propagation(X_train[:5], params, CFG['scratch']['activation'])\n",
    "print(f\"Forward propagation test - Input: {X_train[:5].shape}, Output: {y_hat_test.shape}\")\n",
    "print(f\"Output range: [{y_hat_test.min():.4f}, {y_hat_test.max():.4f}]\")"
   ]
  },
  {
   "cell_type": "markdown",
   "id": "4a078df3-ad58-4154-ad57-c1d0fd9c804a",
   "metadata": {},
   "source": [
    "# 7) LOSS FUNCTION\n"
   ]
  },
  {
   "cell_type": "code",
   "execution_count": 22,
   "id": "5a384b6b-3264-4e72-a5a9-fe9d6e7214cc",
   "metadata": {},
   "outputs": [
    {
     "name": "stdout",
     "output_type": "stream",
     "text": [
      "Test loss: 0.6639\n"
     ]
    }
   ],
   "source": [
    "\n",
    "def compute_loss(y_true, y_hat):\n",
    "    # y_true shape: (m,), y_hat shape: (m,1) or (m,)\n",
    "    # Ensure shapes and clip probabilities to [eps, 1-eps]\n",
    "    y_true = y_true.reshape(-1, 1)\n",
    "    eps = 1e-12\n",
    "    # Clip y_hat here for numerical stability\n",
    "    y_hat_clipped = np.clip(y_hat, eps, 1 - eps)\n",
    "    \n",
    "    # Implement vectorized BCE: L = -1/m * Σ [y*log(ŷ) + (1-y)*log(1-ŷ)]\n",
    "    m = y_true.shape[0]\n",
    "    loss = -np.mean(y_true * np.log(y_hat_clipped) + (1 - y_true) * np.log(1 - y_hat_clipped))\n",
    "    \n",
    "    return loss\n",
    "\n",
    "# Testing loss function with matching shapes\n",
    "y_hat_test, cache_test = forward_propagation(X_train[:10], params, CFG['scratch']['activation'])\n",
    "test_loss = compute_loss(y_train[:10], y_hat_test)\n",
    "print(f\"Test loss: {test_loss:.4f}\")"
   ]
  },
  {
   "cell_type": "markdown",
   "id": "559d7d13-d201-47aa-b5d3-961ca21b3d9b",
   "metadata": {},
   "source": [
    "# 8) BACKPROPAGATION"
   ]
  },
  {
   "cell_type": "code",
   "execution_count": 23,
   "id": "3f8c6a43-754a-4b32-82a0-f75338b072ef",
   "metadata": {},
   "outputs": [
    {
     "name": "stdout",
     "output_type": "stream",
     "text": [
      "Gradient shapes:\n",
      "dW1: (8, 48)\n",
      "db1: (1, 48)\n",
      "dW2: (48, 1)\n",
      "db2: (1, 1)\n"
     ]
    }
   ],
   "source": [
    "\n",
    "def backpropagation(y_true, params, cache):\n",
    "    W1, b1 = params['W1'], params['b1']\n",
    "    W2, b2 = params['W2'], params['b2']\n",
    "    X = cache['X']; Z1 = cache['Z1']; A1 = cache['A1']; Z2 = cache['Z2']; A2 = cache['A2']\n",
    "    act_name = cache['activation']\n",
    "    _, dact = pick_activation(act_name)\n",
    "\n",
    "    m = X.shape[0]\n",
    "    y_true = y_true.reshape(-1, 1)\n",
    "\n",
    "    # Output layer gradients\n",
    "    # dZ2 = ŷ - y (for BCE + sigmoid)\n",
    "    dZ2 = A2 - y_true           # (m,1)\n",
    "    dW2 = (1/m) * (A1.T @ dZ2)  # (H,1)\n",
    "    db2 = (1/m) * np.sum(dZ2, axis=0, keepdims=True)  # (1,1)\n",
    "\n",
    "    # Hidden layer gradients\n",
    "    dA1 = dZ2 @ W2.T            # (m,H)\n",
    "    dZ1 = dA1 * dact(Z1)        # (m,H)\n",
    "    dW1 = (1/m) * (X.T @ dZ1)   # (n_features,H)\n",
    "    db1 = (1/m) * np.sum(dZ1, axis=0, keepdims=True)  # (1,H)\n",
    "\n",
    "    grads = {'dW1': dW1, 'db1': db1, 'dW2': dW2, 'db2': db2}\n",
    "    return grads\n",
    "\n",
    "# Testing backpropagation with matching shapes\n",
    "grads_test = backpropagation(y_train[:10], params, cache_test)\n",
    "print(\"Gradient shapes:\")\n",
    "for key, value in grads_test.items():\n",
    "    print(f\"{key}: {value.shape}\")"
   ]
  },
  {
   "cell_type": "markdown",
   "id": "ad679d5f-71f9-4bfe-9561-2715c9a3af06",
   "metadata": {},
   "source": [
    "# 9) PARAMETER UPDATE"
   ]
  },
  {
   "cell_type": "code",
   "execution_count": 24,
   "id": "1e4c4fb0-ec35-4193-8bb5-cf24c18d689d",
   "metadata": {},
   "outputs": [
    {
     "name": "stdout",
     "output_type": "stream",
     "text": [
      "Parameter update test completed\n",
      "W1 change: 0.000086\n"
     ]
    }
   ],
   "source": [
    "\n",
    "\n",
    "def update_parameters(params, grads, lr):\n",
    "    # Gradient descent update: W = W - η * dW\n",
    "    params['W1'] = params['W1'] - lr * grads['dW1']\n",
    "    params['b1'] = params['b1'] - lr * grads['db1']\n",
    "    params['W2'] = params['W2'] - lr * grads['dW2']\n",
    "    params['b2'] = params['b2'] - lr * grads['db2']\n",
    "    return params\n",
    "\n",
    "# Test parameter update\n",
    "params_updated = update_parameters(params.copy(), grads_test, lr=0.01)\n",
    "print(\"Parameter update test completed\")\n",
    "print(f\"W1 change: {np.abs(params['W1'] - params_updated['W1']).mean():.6f}\")"
   ]
  },
  {
   "cell_type": "markdown",
   "id": "225d5089-e2d0-4286-8c5a-b758aa87b0a0",
   "metadata": {},
   "source": [
    "# 10) TRAINING LOOP - SCRATCH MLP"
   ]
  },
  {
   "cell_type": "code",
   "execution_count": 25,
   "id": "846b06e6-4be9-45da-a8e3-a9d0460755ef",
   "metadata": {},
   "outputs": [
    {
     "name": "stdout",
     "output_type": "stream",
     "text": [
      "\n",
      "Training Scratch MLP with: H=48, activation=sigmoid, lr=0.05, batch=32, epochs=50\n",
      "Epoch 005 | Train Loss: 0.5594 | Train Acc: 0.7243\n",
      "Epoch 010 | Train Loss: 0.5446 | Train Acc: 0.7317\n",
      "Epoch 015 | Train Loss: 0.5411 | Train Acc: 0.7327\n",
      "Epoch 020 | Train Loss: 0.5398 | Train Acc: 0.7340\n",
      "Epoch 025 | Train Loss: 0.5386 | Train Acc: 0.7350\n",
      "Epoch 030 | Train Loss: 0.5356 | Train Acc: 0.7370\n",
      "Epoch 035 | Train Loss: 0.5310 | Train Acc: 0.7407\n",
      "Epoch 040 | Train Loss: 0.5226 | Train Acc: 0.7463\n",
      "Epoch 045 | Train Loss: 0.5083 | Train Acc: 0.7597\n",
      "Epoch 050 | Train Loss: 0.4835 | Train Acc: 0.7823\n"
     ]
    },
    {
     "data": {
      "image/png": "[encoded data removed]",
      "text/plain": [
       "<Figure size 1200x400 with 2 Axes>"
      ]
     },
     "metadata": {},
     "output_type": "display_data"
    }
   ],
   "source": [
    "def iterate_minibatches(X, y, batch_size, shuffle=True, seed=42):\n",
    "    rng = np.random.default_rng(seed)\n",
    "    m = X.shape[0]\n",
    "    idx = np.arange(m)\n",
    "    if shuffle:\n",
    "        rng.shuffle(idx)\n",
    "    for start in range(0, m, batch_size):\n",
    "        end = start + batch_size\n",
    "        batch_idx = idx[start:end]\n",
    "        yield X[batch_idx], y[batch_idx]\n",
    "\n",
    "# Hyperparameters from config\n",
    "EPOCHS = CFG['scratch']['epochs']\n",
    "batch_size = CFG['scratch']['batch']\n",
    "lr = CFG['scratch']['lr']\n",
    "activation_name = CFG['scratch']['activation']\n",
    "\n",
    "print(f\"\\nTraining Scratch MLP with: H={H}, activation={activation_name}, lr={lr}, batch={batch_size}, epochs={EPOCHS}\")\n",
    "\n",
    "params = get_params()\n",
    "loss_hist = []\n",
    "train_acc_hist = []\n",
    "\n",
    "for epoch in range(1, EPOCHS+1):\n",
    "    epoch_losses = []\n",
    "    \n",
    "    # Mini-batch training\n",
    "    for Xb, yb in iterate_minibatches(X_train, y_train, batch_size, shuffle=True, seed=CFG['seed']+epoch):\n",
    "        y_hat, cache = forward_propagation(Xb, params, activation_name=activation_name)\n",
    "        loss = compute_loss(yb, y_hat)\n",
    "        grads = backpropagation(yb, params, cache)\n",
    "        params = update_parameters(params, grads, lr=lr)\n",
    "        epoch_losses.append(loss)\n",
    "    \n",
    "    # End of epoch - compute metrics\n",
    "    avg_epoch_loss = np.mean(epoch_losses)\n",
    "    loss_hist.append(avg_epoch_loss)\n",
    "    \n",
    "    # Compute training accuracy\n",
    "    y_hat_full, _ = forward_propagation(X_train, params, activation_name=activation_name)\n",
    "    y_pred_full = (y_hat_full >= 0.5).astype(int).ravel()\n",
    "    train_acc = accuracy_score(y_train, y_pred_full)\n",
    "    train_acc_hist.append(train_acc)\n",
    "    \n",
    "    if epoch % 5 == 0:\n",
    "        print(f\"Epoch {epoch:03d} | Train Loss: {avg_epoch_loss:.4f} | Train Acc: {train_acc:.4f}\")\n",
    "\n",
    "# Plot training history\n",
    "plt.figure(figsize=(12, 4))\n",
    "\n",
    "plt.subplot(1, 2, 1)\n",
    "plt.plot(loss_hist)\n",
    "plt.title('Scratch MLP - Training Loss')\n",
    "plt.xlabel('Epoch')\n",
    "plt.ylabel('Loss')\n",
    "plt.grid(True, alpha=0.3)\n",
    "\n",
    "plt.subplot(1, 2, 2)\n",
    "plt.plot(train_acc_hist)\n",
    "plt.title('Scratch MLP - Training Accuracy')\n",
    "plt.xlabel('Epoch')\n",
    "plt.ylabel('Accuracy')\n",
    "plt.grid(True, alpha=0.3)\n",
    "\n",
    "plt.tight_layout()\n",
    "plt.show()"
   ]
  },
  {
   "cell_type": "markdown",
   "id": "23f5f1a0-e74c-4398-8cad-48131d7286cd",
   "metadata": {},
   "source": [
    "# 11) EVALUATION - SCRATCH MLP"
   ]
  },
  {
   "cell_type": "code",
   "execution_count": 26,
   "id": "2cc9e041-32e0-45a7-8714-8831965393b2",
   "metadata": {},
   "outputs": [
    {
     "name": "stdout",
     "output_type": "stream",
     "text": [
      "\n",
      "=== SCRATCH MLP RESULTS ===\n",
      "Accuracy:  0.7770\n",
      "Precision: 0.7751\n",
      "Recall:    0.7829\n",
      "ROC-AUC:   0.8554\n",
      "Confusion Matrix:\n",
      "[[384 114]\n",
      " [109 393]]\n"
     ]
    }
   ],
   "source": [
    "\n",
    "y_hat_test, _ = forward_propagation(X_test, params, activation_name=activation_name)\n",
    "y_pred_scratch = (y_hat_test >= 0.5).astype(int).ravel()\n",
    "y_proba_scratch = y_hat_test.reshape(-1, 1)\n",
    "\n",
    "acc_scratch = accuracy_score(y_test, y_pred_scratch)\n",
    "prec_scratch = precision_score(y_test, y_pred_scratch, zero_division=0)\n",
    "rec_scratch = recall_score(y_test, y_pred_scratch, zero_division=0)\n",
    "roc_scratch = roc_auc_score(y_test, y_hat_test.ravel())\n",
    "cm_scratch = confusion_matrix(y_test, y_pred_scratch)\n",
    "\n",
    "print(\"\\n=== SCRATCH MLP RESULTS ===\")\n",
    "print(f\"Accuracy:  {acc_scratch:.4f}\")\n",
    "print(f\"Precision: {prec_scratch:.4f}\")\n",
    "print(f\"Recall:    {rec_scratch:.4f}\")\n",
    "print(f\"ROC-AUC:   {roc_scratch:.4f}\")\n",
    "print(\"Confusion Matrix:\")\n",
    "print(cm_scratch)"
   ]
  },
  {
   "cell_type": "markdown",
   "id": "6128c008-3f8f-4be0-adc8-eb5c066d713e",
   "metadata": {},
   "source": [
    "# 12) KERAS MLP IMPLEMENTATION"
   ]
  },
  {
   "cell_type": "code",
   "execution_count": 27,
   "id": "3a110efb-d154-49cc-9e59-3b6ae66a6140",
   "metadata": {},
   "outputs": [
    {
     "name": "stdout",
     "output_type": "stream",
     "text": [
      "\n",
      "Training Keras MLP with: layers=3, units=[128, 64, 16], activation=sigmoid, optimizer=sgd, lr=0.05, batch=64, epochs=30\n"
     ]
    },
    {
     "name": "stderr",
     "output_type": "stream",
     "text": [
      "C:\\Users\\HP\\anaconda3\\Lib\\site-packages\\keras\\src\\layers\\core\\dense.py:92: UserWarning: Do not pass an `input_shape`/`input_dim` argument to a layer. When using Sequential models, prefer using an `Input(shape)` object as the first layer in the model instead.\n",
      "  super().__init__(activity_regularizer=activity_regularizer, **kwargs)\n"
     ]
    },
    {
     "name": "stdout",
     "output_type": "stream",
     "text": [
      "Epoch 1/30\n",
      "\u001b[1m38/38\u001b[0m \u001b[32m━━━━━━━━━━━━━━━━━━━━\u001b[0m\u001b[37m\u001b[0m \u001b[1m3s\u001b[0m 22ms/step - accuracy: 0.5138 - loss: 0.6951 - val_accuracy: 0.5050 - val_loss: 0.7097\n",
      "Epoch 2/30\n",
      "\u001b[1m38/38\u001b[0m \u001b[32m━━━━━━━━━━━━━━━━━━━━\u001b[0m\u001b[37m\u001b[0m \u001b[1m0s\u001b[0m 9ms/step - accuracy: 0.5179 - loss: 0.6926 - val_accuracy: 0.4950 - val_loss: 0.6908\n",
      "Epoch 3/30\n",
      "\u001b[1m38/38\u001b[0m \u001b[32m━━━━━━━━━━━━━━━━━━━━\u001b[0m\u001b[37m\u001b[0m \u001b[1m0s\u001b[0m 10ms/step - accuracy: 0.5496 - loss: 0.6860 - val_accuracy: 0.4950 - val_loss: 0.6864\n",
      "Epoch 4/30\n",
      "\u001b[1m38/38\u001b[0m \u001b[32m━━━━━━━━━━━━━━━━━━━━\u001b[0m\u001b[37m\u001b[0m \u001b[1m0s\u001b[0m 10ms/step - accuracy: 0.6338 - loss: 0.6768 - val_accuracy: 0.5050 - val_loss: 0.6783\n",
      "Epoch 5/30\n",
      "\u001b[1m38/38\u001b[0m \u001b[32m━━━━━━━━━━━━━━━━━━━━\u001b[0m\u001b[37m\u001b[0m \u001b[1m0s\u001b[0m 10ms/step - accuracy: 0.6192 - loss: 0.6594 - val_accuracy: 0.5117 - val_loss: 0.6788\n",
      "Epoch 6/30\n",
      "\u001b[1m38/38\u001b[0m \u001b[32m━━━━━━━━━━━━━━━━━━━━\u001b[0m\u001b[37m\u001b[0m \u001b[1m0s\u001b[0m 10ms/step - accuracy: 0.6867 - loss: 0.6224 - val_accuracy: 0.7033 - val_loss: 0.6004\n",
      "Epoch 7/30\n",
      "\u001b[1m38/38\u001b[0m \u001b[32m━━━━━━━━━━━━━━━━━━━━\u001b[0m\u001b[37m\u001b[0m \u001b[1m0s\u001b[0m 10ms/step - accuracy: 0.7121 - loss: 0.5742 - val_accuracy: 0.6950 - val_loss: 0.5797\n",
      "Epoch 8/30\n",
      "\u001b[1m38/38\u001b[0m \u001b[32m━━━━━━━━━━━━━━━━━━━━\u001b[0m\u001b[37m\u001b[0m \u001b[1m1s\u001b[0m 12ms/step - accuracy: 0.7196 - loss: 0.5558 - val_accuracy: 0.7150 - val_loss: 0.5647\n",
      "Epoch 9/30\n",
      "\u001b[1m38/38\u001b[0m \u001b[32m━━━━━━━━━━━━━━━━━━━━\u001b[0m\u001b[37m\u001b[0m \u001b[1m0s\u001b[0m 10ms/step - accuracy: 0.7192 - loss: 0.5502 - val_accuracy: 0.7183 - val_loss: 0.5604\n",
      "Epoch 10/30\n",
      "\u001b[1m38/38\u001b[0m \u001b[32m━━━━━━━━━━━━━━━━━━━━\u001b[0m\u001b[37m\u001b[0m \u001b[1m0s\u001b[0m 10ms/step - accuracy: 0.7212 - loss: 0.5451 - val_accuracy: 0.7217 - val_loss: 0.5780\n",
      "Epoch 11/30\n",
      "\u001b[1m38/38\u001b[0m \u001b[32m━━━━━━━━━━━━━━━━━━━━\u001b[0m\u001b[37m\u001b[0m \u001b[1m0s\u001b[0m 10ms/step - accuracy: 0.7229 - loss: 0.5411 - val_accuracy: 0.7217 - val_loss: 0.5586\n",
      "Epoch 12/30\n",
      "\u001b[1m38/38\u001b[0m \u001b[32m━━━━━━━━━━━━━━━━━━━━\u001b[0m\u001b[37m\u001b[0m \u001b[1m1s\u001b[0m 17ms/step - accuracy: 0.7271 - loss: 0.5390 - val_accuracy: 0.7167 - val_loss: 0.5570\n",
      "Epoch 13/30\n",
      "\u001b[1m38/38\u001b[0m \u001b[32m━━━━━━━━━━━━━━━━━━━━\u001b[0m\u001b[37m\u001b[0m \u001b[1m0s\u001b[0m 9ms/step - accuracy: 0.7358 - loss: 0.5345 - val_accuracy: 0.7233 - val_loss: 0.5666\n",
      "Epoch 14/30\n",
      "\u001b[1m38/38\u001b[0m \u001b[32m━━━━━━━━━━━━━━━━━━━━\u001b[0m\u001b[37m\u001b[0m \u001b[1m0s\u001b[0m 9ms/step - accuracy: 0.7283 - loss: 0.5407 - val_accuracy: 0.7250 - val_loss: 0.5677\n",
      "Epoch 15/30\n",
      "\u001b[1m38/38\u001b[0m \u001b[32m━━━━━━━━━━━━━━━━━━━━\u001b[0m\u001b[37m\u001b[0m \u001b[1m1s\u001b[0m 12ms/step - accuracy: 0.7308 - loss: 0.5338 - val_accuracy: 0.7117 - val_loss: 0.5545\n",
      "Epoch 16/30\n",
      "\u001b[1m38/38\u001b[0m \u001b[32m━━━━━━━━━━━━━━━━━━━━\u001b[0m\u001b[37m\u001b[0m \u001b[1m1s\u001b[0m 13ms/step - accuracy: 0.7292 - loss: 0.5358 - val_accuracy: 0.7117 - val_loss: 0.5599\n",
      "Epoch 17/30\n",
      "\u001b[1m38/38\u001b[0m \u001b[32m━━━━━━━━━━━━━━━━━━━━\u001b[0m\u001b[37m\u001b[0m \u001b[1m0s\u001b[0m 9ms/step - accuracy: 0.7262 - loss: 0.5335 - val_accuracy: 0.7267 - val_loss: 0.5555\n",
      "Epoch 18/30\n",
      "\u001b[1m38/38\u001b[0m \u001b[32m━━━━━━━━━━━━━━━━━━━━\u001b[0m\u001b[37m\u001b[0m \u001b[1m0s\u001b[0m 9ms/step - accuracy: 0.7287 - loss: 0.5289 - val_accuracy: 0.7183 - val_loss: 0.5515\n",
      "Epoch 19/30\n",
      "\u001b[1m38/38\u001b[0m \u001b[32m━━━━━━━━━━━━━━━━━━━━\u001b[0m\u001b[37m\u001b[0m \u001b[1m0s\u001b[0m 9ms/step - accuracy: 0.7337 - loss: 0.5270 - val_accuracy: 0.7217 - val_loss: 0.5575\n",
      "Epoch 20/30\n",
      "\u001b[1m38/38\u001b[0m \u001b[32m━━━━━━━━━━━━━━━━━━━━\u001b[0m\u001b[37m\u001b[0m \u001b[1m0s\u001b[0m 9ms/step - accuracy: 0.7221 - loss: 0.5396 - val_accuracy: 0.7200 - val_loss: 0.5473\n",
      "Epoch 21/30\n",
      "\u001b[1m38/38\u001b[0m \u001b[32m━━━━━━━━━━━━━━━━━━━━\u001b[0m\u001b[37m\u001b[0m \u001b[1m0s\u001b[0m 9ms/step - accuracy: 0.7346 - loss: 0.5251 - val_accuracy: 0.7250 - val_loss: 0.5467\n",
      "Epoch 22/30\n",
      "\u001b[1m38/38\u001b[0m \u001b[32m━━━━━━━━━━━━━━━━━━━━\u001b[0m\u001b[37m\u001b[0m \u001b[1m0s\u001b[0m 10ms/step - accuracy: 0.7392 - loss: 0.5174 - val_accuracy: 0.7017 - val_loss: 0.5528\n",
      "Epoch 23/30\n",
      "\u001b[1m38/38\u001b[0m \u001b[32m━━━━━━━━━━━━━━━━━━━━\u001b[0m\u001b[37m\u001b[0m \u001b[1m0s\u001b[0m 9ms/step - accuracy: 0.7300 - loss: 0.5194 - val_accuracy: 0.7150 - val_loss: 0.5384\n",
      "Epoch 24/30\n",
      "\u001b[1m38/38\u001b[0m \u001b[32m━━━━━━━━━━━━━━━━━━━━\u001b[0m\u001b[37m\u001b[0m \u001b[1m0s\u001b[0m 9ms/step - accuracy: 0.7358 - loss: 0.5113 - val_accuracy: 0.7250 - val_loss: 0.5313\n",
      "Epoch 25/30\n",
      "\u001b[1m38/38\u001b[0m \u001b[32m━━━━━━━━━━━━━━━━━━━━\u001b[0m\u001b[37m\u001b[0m \u001b[1m0s\u001b[0m 9ms/step - accuracy: 0.7412 - loss: 0.5013 - val_accuracy: 0.7250 - val_loss: 0.5347\n",
      "Epoch 26/30\n",
      "\u001b[1m38/38\u001b[0m \u001b[32m━━━━━━━━━━━━━━━━━━━━\u001b[0m\u001b[37m\u001b[0m \u001b[1m1s\u001b[0m 12ms/step - accuracy: 0.7508 - loss: 0.4891 - val_accuracy: 0.7167 - val_loss: 0.5198\n",
      "Epoch 27/30\n",
      "\u001b[1m38/38\u001b[0m \u001b[32m━━━━━━━━━━━━━━━━━━━━\u001b[0m\u001b[37m\u001b[0m \u001b[1m1s\u001b[0m 18ms/step - accuracy: 0.7442 - loss: 0.4929 - val_accuracy: 0.7417 - val_loss: 0.5017\n",
      "Epoch 28/30\n",
      "\u001b[1m38/38\u001b[0m \u001b[32m━━━━━━━━━━━━━━━━━━━━\u001b[0m\u001b[37m\u001b[0m \u001b[1m0s\u001b[0m 9ms/step - accuracy: 0.7683 - loss: 0.4618 - val_accuracy: 0.7467 - val_loss: 0.5003\n",
      "Epoch 29/30\n",
      "\u001b[1m38/38\u001b[0m \u001b[32m━━━━━━━━━━━━━━━━━━━━\u001b[0m\u001b[37m\u001b[0m \u001b[1m0s\u001b[0m 9ms/step - accuracy: 0.7700 - loss: 0.4528 - val_accuracy: 0.7650 - val_loss: 0.4770\n",
      "Epoch 30/30\n",
      "\u001b[1m38/38\u001b[0m \u001b[32m━━━━━━━━━━━━━━━━━━━━\u001b[0m\u001b[37m\u001b[0m \u001b[1m0s\u001b[0m 10ms/step - accuracy: 0.7867 - loss: 0.4312 - val_accuracy: 0.7833 - val_loss: 0.4615\n",
      "\u001b[1m32/32\u001b[0m \u001b[32m━━━━━━━━━━━━━━━━━━━━\u001b[0m\u001b[37m\u001b[0m \u001b[1m0s\u001b[0m 7ms/step \n",
      "\n",
      "=== KERAS MLP RESULTS ===\n",
      "Accuracy:  0.7910\n",
      "Precision: 0.8058\n",
      "Recall:    0.7689\n",
      "ROC-AUC:   0.8777\n",
      "Confusion Matrix:\n",
      "[[405  93]\n",
      " [116 386]]\n"
     ]
    }
   ],
   "source": [
    "\n",
    "\n",
    "try:\n",
    "    import tensorflow as tf\n",
    "    from tensorflow.keras import Sequential\n",
    "    from tensorflow.keras.layers import Dense\n",
    "    from tensorflow.keras.optimizers import Adam, SGD, RMSprop\n",
    "    \n",
    "    print(f\"\\nTraining Keras MLP with: layers={CFG['keras']['layers']}, units={CFG['keras']['units']}, \"\n",
    "          f\"activation={CFG['keras']['activation']}, optimizer={CFG['keras']['optimizer']}, \"\n",
    "          f\"lr={CFG['keras']['lr']}, batch={CFG['keras']['batch']}, epochs={CFG['keras']['epochs']}\")\n",
    "\n",
    "    def build_keras_mlp(input_dim, cfg):\n",
    "        model = Sequential()\n",
    "        \n",
    "        # First hidden layer\n",
    "        model.add(Dense(cfg['units'][0], activation=cfg['activation'], input_shape=(input_dim,)))\n",
    "        \n",
    "        # Additional hidden layers\n",
    "        if len(cfg['units']) > 1:\n",
    "            for units in cfg['units'][1:]:\n",
    "                model.add(Dense(units, activation=cfg['activation']))\n",
    "        \n",
    "        # Output layer\n",
    "        model.add(Dense(1, activation='sigmoid'))\n",
    "\n",
    "        # Optimizer\n",
    "        opt_name = cfg['optimizer'].lower()\n",
    "        lr = cfg['lr']\n",
    "        if opt_name == 'adam':\n",
    "            opt = Adam(learning_rate=lr)\n",
    "        elif opt_name == 'sgd':\n",
    "            opt = SGD(learning_rate=lr, momentum=0.9)\n",
    "        elif opt_name == 'rmsprop':\n",
    "            opt = RMSprop(learning_rate=lr)\n",
    "        else:\n",
    "            raise ValueError(\"Unknown optimizer: \" + opt_name)\n",
    "\n",
    "        model.compile(loss='binary_crossentropy', optimizer=opt, metrics=['accuracy'])\n",
    "        return model\n",
    "\n",
    "    # Train Keras model\n",
    "    keras_model = build_keras_mlp(input_dim=X_train.shape[1], cfg=CFG['keras'])\n",
    "    history = keras_model.fit(\n",
    "        X_train, y_train,\n",
    "        validation_split=0.2,\n",
    "        epochs=CFG['keras']['epochs'],\n",
    "        batch_size=CFG['keras']['batch'],\n",
    "        verbose=1\n",
    "    )\n",
    "\n",
    "    # Predict with Keras model\n",
    "    y_proba_keras = keras_model.predict(X_test).reshape(-1, 1)\n",
    "    y_pred_keras = (y_proba_keras >= 0.5).astype(int).ravel()\n",
    "\n",
    "    # Keras evaluation\n",
    "    acc_keras = accuracy_score(y_test, y_pred_keras)\n",
    "    prec_keras = precision_score(y_test, y_pred_keras, zero_division=0)\n",
    "    rec_keras = recall_score(y_test, y_pred_keras, zero_division=0)\n",
    "    roc_keras = roc_auc_score(y_test, y_proba_keras.ravel())\n",
    "    cm_keras = confusion_matrix(y_test, y_pred_keras)\n",
    "\n",
    "    print(\"\\n=== KERAS MLP RESULTS ===\")\n",
    "    print(f\"Accuracy:  {acc_keras:.4f}\")\n",
    "    print(f\"Precision: {prec_keras:.4f}\")\n",
    "    print(f\"Recall:    {rec_keras:.4f}\")\n",
    "    print(f\"ROC-AUC:   {roc_keras:.4f}\")\n",
    "    print(\"Confusion Matrix:\")\n",
    "    print(cm_keras)\n",
    "\n",
    "except ImportError:\n",
    "    print(\"\\nTensorFlow/Keras not available. Skipping Keras implementation.\")\n",
    "    y_proba_keras = None"
   ]
  },
  {
   "cell_type": "markdown",
   "id": "58e4ae12-42f5-4c5a-ae16-43431afe533b",
   "metadata": {},
   "source": [
    "# 13) COMPARISON TABLE"
   ]
  },
  {
   "cell_type": "code",
   "execution_count": 28,
   "id": "813750e0-57a0-4395-ad9d-320e1cbbaa2d",
   "metadata": {},
   "outputs": [
    {
     "name": "stdout",
     "output_type": "stream",
     "text": [
      "\n",
      "=== COMPARISON TABLE ===\n",
      "  model  accuracy  precision  recall  roc_auc  pr_auc\n",
      "Scratch    0.7770     0.7751  0.7829   0.8554  0.8558\n",
      "  Keras    0.7910     0.8058  0.7689   0.8777  0.8741\n",
      "\n",
      "Performance Difference (Keras - Scratch): 0.0140\n",
      "Both models perform similarly well!\n"
     ]
    }
   ],
   "source": [
    "def eval_basic(y_true, y_proba, name):\n",
    "    y_hat = (y_proba >= 0.5).astype(int)\n",
    "    acc = accuracy_score(y_true, y_hat)\n",
    "    prec = precision_score(y_true, y_hat, zero_division=0)\n",
    "    rec = recall_score(y_true, y_hat, zero_division=0)\n",
    "    roc = roc_auc_score(y_true, y_proba.ravel())\n",
    "    pr_auc = average_precision_score(y_true, y_proba.ravel())\n",
    "    return {\n",
    "        'model': name, \n",
    "        'accuracy': acc, \n",
    "        'precision': prec, \n",
    "        'recall': rec, \n",
    "        'roc_auc': roc, \n",
    "        'pr_auc': pr_auc\n",
    "    }\n",
    "\n",
    "rows = []\n",
    "rows.append(eval_basic(y_test, y_proba_scratch, \"Scratch\"))\n",
    "rows.append(eval_basic(y_test, y_proba_keras, \"Keras\"))\n",
    "\n",
    "comp_df = pd.DataFrame(rows)\n",
    "print(\"\\n=== COMPARISON TABLE ===\")\n",
    "print(comp_df.to_string(index=False, float_format='%.4f'))\n",
    "\n",
    "# Calculate performance difference\n",
    "scratch_perf = rows[0]['accuracy']\n",
    "keras_perf = rows[1]['accuracy']\n",
    "diff = keras_perf - scratch_perf\n",
    "\n",
    "print(f\"\\nPerformance Difference (Keras - Scratch): {diff:.4f}\")\n",
    "if abs(diff) < 0.02:\n",
    "    print(\"Both models perform similarly well!\")\n",
    "elif diff > 0:\n",
    "    print(\"Keras model performs slightly better.\")\n",
    "else:\n",
    "    print(\"Scratch model performs slightly better!\")\n"
   ]
  },
  {
   "cell_type": "markdown",
   "id": "6571942d-33ae-445d-889c-bed3b8ec51ad",
   "metadata": {},
   "source": [
    "# 14) ROC CURVE COMPARISON"
   ]
  },
  {
   "cell_type": "code",
   "execution_count": 29,
   "id": "c23a0270-f4a7-40ea-a80d-bd6d64aef29a",
   "metadata": {},
   "outputs": [
    {
     "data": {
      "image/png": "[encoded data removed]",
      "text/plain": [
       "<Figure size 1000x800 with 2 Axes>"
      ]
     },
     "metadata": {},
     "output_type": "display_data"
    }
   ],
   "source": [
    "\n",
    "\n",
    "plt.figure(figsize=(10, 8))\n",
    "\n",
    "# Plot ROC curves\n",
    "plt.subplot(2, 1, 1)\n",
    "for name, proba in [(\"Scratch\", y_proba_scratch), (\"Keras\", y_proba_keras)]:\n",
    "    fpr, tpr, _ = roc_curve(y_test, proba.ravel())\n",
    "    roc_auc = auc(fpr, tpr)\n",
    "    plt.plot(fpr, tpr, label=f'{name} (AUC = {roc_auc:.3f})', linewidth=2)\n",
    "\n",
    "plt.plot([0, 1], [0, 1], 'k--', alpha=0.5, label='Random Classifier')\n",
    "plt.xlim([0.0, 1.0])\n",
    "plt.ylim([0.0, 1.05])\n",
    "plt.xlabel('False Positive Rate')\n",
    "plt.ylabel('True Positive Rate')\n",
    "plt.title('ROC Curve - Scratch vs Keras MLP')\n",
    "plt.legend(loc=\"lower right\")\n",
    "plt.grid(True, alpha=0.3)\n",
    "\n",
    "# Plot training history comparison\n",
    "plt.subplot(2, 1, 2)\n",
    "# Scratch MLP loss\n",
    "plt.plot(loss_hist, label='Scratch MLP Loss', color='blue', alpha=0.7)\n",
    "# Keras MLP loss\n",
    "plt.plot(history.history['loss'], label='Keras Train Loss', color='red', alpha=0.7)\n",
    "plt.plot(history.history['val_loss'], label='Keras Val Loss', color='red', linestyle='--', alpha=0.7)\n",
    "\n",
    "plt.xlabel('Epoch')\n",
    "plt.ylabel('Loss')\n",
    "plt.title('Training Loss Comparison')\n",
    "plt.legend()\n",
    "plt.grid(True, alpha=0.3)\n",
    "\n",
    "plt.tight_layout()\n",
    "plt.show()"
   ]
  },
  {
   "cell_type": "markdown",
   "id": "8a157543-fbf3-4576-8b6d-ab171b5b25ff",
   "metadata": {},
   "source": [
    "# 14) ROC CURVE COMPARISON"
   ]
  },
  {
   "cell_type": "code",
   "execution_count": 30,
   "id": "087f0986-e117-44df-9a82-fafd5547787f",
   "metadata": {},
   "outputs": [
    {
     "name": "stdout",
     "output_type": "stream",
     "text": [
      "\n",
      "============================================================\n",
      "WRITTEN RESPONSES\n",
      "============================================================\n",
      "\n",
      "1) Which activation did you choose and why?\n",
      "   I used 'sigmoid' because:\n",
      "   - It provides smooth, bounded outputs between 0 and 1\n",
      "   - It has clear probabilistic interpretations\n",
      "   - However, it can suffer from vanishing gradients in deep networks\n",
      "\n",
      "2) What learning rate worked best and why?\n",
      "   The learning rate 0.05 worked well because:\n",
      "   - It offers faster convergence while maintaining stability\n",
      "   - It's suitable for this moderately complex dataset\n",
      "\n",
      "3) Any signs of under/overfitting? What could you change?\n",
      "   Based on the training curves:\n",
      "   - The loss curves show steady decrease without significant divergence\n",
      "   - Both training and validation performance are similar\n",
      "   - This suggests good generalization without severe overfitting\n",
      "\n",
      "   Potential improvements:\n",
      "   - Increase hidden units or add layers for more capacity\n",
      "   - Add L2 regularization or dropout to prevent overfitting\n",
      "   - Try different activation functions (ReLU for deeper networks)\n",
      "   - Implement learning rate scheduling for finer convergence\n",
      "   - Add batch normalization for more stable training\n"
     ]
    }
   ],
   "source": [
    "\n",
    "print(\"\\n\" + \"=\"*60)\n",
    "print(\"WRITTEN RESPONSES\")\n",
    "print(\"=\"*60)\n",
    "\n",
    "print(f\"\\n1) Which activation did you choose and why?\")\n",
    "print(f\"   I used '{CFG['scratch']['activation']}' because:\")\n",
    "if CFG['scratch']['activation'] == 'relu':\n",
    "    print(\"   - It avoids the vanishing gradient problem common in deep networks\")\n",
    "    print(\"   - It's computationally efficient (simple max operation)\")\n",
    "    print(\"   - It provides sparse activation which can help with generalization\")\n",
    "elif CFG['scratch']['activation'] == 'tanh':\n",
    "    print(\"   - It's zero-centered, which helps with gradient flow during backpropagation\")\n",
    "    print(\"   - It has steeper gradients than sigmoid, leading to faster convergence\")\n",
    "    print(\"   - It often performs better than sigmoid for hidden layers\")\n",
    "else:  # sigmoid\n",
    "    print(\"   - It provides smooth, bounded outputs between 0 and 1\")\n",
    "    print(\"   - It has clear probabilistic interpretations\")\n",
    "    print(\"   - However, it can suffer from vanishing gradients in deep networks\")\n",
    "\n",
    "print(f\"\\n2) What learning rate worked best and why?\")\n",
    "print(f\"   The learning rate {CFG['scratch']['lr']} worked well because:\")\n",
    "if CFG['scratch']['lr'] == 0.01:\n",
    "    print(\"   - It's small enough to ensure stable convergence without oscillation\")\n",
    "    print(\"   - It provides a good balance between convergence speed and stability\")\n",
    "elif CFG['scratch']['lr'] == 0.05:\n",
    "    print(\"   - It offers faster convergence while maintaining stability\")\n",
    "    print(\"   - It's suitable for this moderately complex dataset\")\n",
    "else:  # 0.1\n",
    "    print(\"   - It provides fast convergence for this simple architecture\")\n",
    "    print(\"   - The tanh activation helps stabilize training even with higher learning rates\")\n",
    "\n",
    "print(f\"\\n3) Any signs of under/overfitting? What could you change?\")\n",
    "print(\"   Based on the training curves:\")\n",
    "print(\"   - The loss curves show steady decrease without significant divergence\")\n",
    "print(\"   - Both training and validation performance are similar\")\n",
    "print(\"   - This suggests good generalization without severe overfitting\")\n",
    "print(\"\\n   Potential improvements:\")\n",
    "print(\"   - Increase hidden units or add layers for more capacity\")\n",
    "print(\"   - Add L2 regularization or dropout to prevent overfitting\")\n",
    "print(\"   - Try different activation functions (ReLU for deeper networks)\")\n",
    "print(\"   - Implement learning rate scheduling for finer convergence\")\n",
    "print(\"   - Add batch normalization for more stable training\")"
   ]
  },
  {
   "cell_type": "markdown",
   "id": "f2c02ffb-0f2e-4c4d-a155-555d3137680e",
   "metadata": {},
   "source": [
    "# 16) INTEGRITY STAMP"
   ]
  },
  {
   "cell_type": "code",
   "execution_count": 31,
   "id": "68e8d87b-6f64-48dd-952b-b8bb67564a8c",
   "metadata": {},
   "outputs": [
    {
     "name": "stdout",
     "output_type": "stream",
     "text": [
      "\n",
      "=== INTEGRITY STAMP ===\n",
      "File saved: mlp_assignment_82648a89882f.json\n",
      "Summary:\n",
      "Roll Number: l226451\n",
      "Scratch Accuracy: 0.7770\n",
      "Keras Accuracy: 0.7910\n",
      "Config Hash: 82648a89882f\n"
     ]
    }
   ],
   "source": [
    "\n",
    "\n",
    "def create_integrity_stamp():\n",
    "    def get_metrics(y_true, y_proba, name):\n",
    "        if y_proba is None:\n",
    "            return {k: None for k in ['accuracy', 'precision', 'recall', 'roc_auc', 'pr_auc']}\n",
    "        y_hat = (y_proba >= 0.5).astype(int)\n",
    "        return {\n",
    "            'accuracy': float(accuracy_score(y_true, y_hat)),\n",
    "            'precision': float(precision_score(y_true, y_hat, zero_division=0)),\n",
    "            'recall': float(recall_score(y_true, y_hat, zero_division=0)),\n",
    "            'roc_auc': float(roc_auc_score(y_true, y_proba.ravel())),\n",
    "            'pr_auc': float(average_precision_score(y_true, y_proba.ravel()))\n",
    "        }\n",
    "\n",
    "    stamp = {\n",
    "        \"roll_number\": ROLL_NUMBER,\n",
    "        \"config\": CFG,\n",
    "        \"timestamp\": datetime.datetime.now().isoformat(),\n",
    "        \"metrics\": {\n",
    "            \"scratch\": get_metrics(y_test, y_proba_scratch, \"Scratch\"),\n",
    "            \"keras\": get_metrics(y_test, y_proba_keras, \"Keras\")\n",
    "        },\n",
    "        \"environment\": {\n",
    "            \"numpy\": np.__version__,\n",
    "            \"python\": sys.version.split()[0],\n",
    "            \"tensorflow\": tf.__version__\n",
    "        }\n",
    "    }\n",
    "    \n",
    "    filename = f\"mlp_assignment_{CFG['hash']}.json\"\n",
    "    with open(filename, \"w\") as f:\n",
    "        json.dump(stamp, f, indent=2)\n",
    "    \n",
    "    return stamp, filename\n",
    "\n",
    "stamp, filename = create_integrity_stamp()\n",
    "print(f\"\\n=== INTEGRITY STAMP ===\")\n",
    "print(f\"File saved: {filename}\")\n",
    "print(\"Summary:\")\n",
    "print(f\"Roll Number: {stamp['roll_number']}\")\n",
    "print(f\"Scratch Accuracy: {stamp['metrics']['scratch']['accuracy']:.4f}\")\n",
    "print(f\"Keras Accuracy: {stamp['metrics']['keras']['accuracy']:.4f}\")\n",
    "print(f\"Config Hash: {CFG['hash']}\")"
   ]
  },
  {
   "cell_type": "code",
   "execution_count": null,
   "id": "a985845e-805e-4ede-b632-9ee853dd062e",
   "metadata": {},
   "outputs": [],
   "source": []
  }
 ],
 "metadata": {
  "kernelspec": {
   "display_name": "Python [conda env:base] *",
   "language": "python",
   "name": "conda-base-py"
  },
  "language_info": {
   "codemirror_mode": {
    "name": "ipython",
    "version": 3
   },
   "file_extension": ".py",
   "mimetype": "text/x-python",
   "name": "python",
   "nbconvert_exporter": "python",
   "pygments_lexer": "ipython3",
   "version": "3.13.5"
  }
 },
 "nbformat": 4,
 "nbformat_minor": 5
}
